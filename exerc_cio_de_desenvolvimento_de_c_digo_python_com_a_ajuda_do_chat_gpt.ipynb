{
  "nbformat": 4,
  "nbformat_minor": 0,
  "metadata": {
    "colab": {
      "provenance": [],
      "authorship_tag": "ABX9TyOX17fC/4W+7Fq7l0XbVB0t",
      "include_colab_link": true
    },
    "kernelspec": {
      "name": "python3",
      "display_name": "Python 3"
    },
    "language_info": {
      "name": "python"
    }
  },
  "cells": [
    {
      "cell_type": "markdown",
      "metadata": {
        "id": "view-in-github",
        "colab_type": "text"
      },
      "source": [
        "<a href=\"https://colab.research.google.com/github/antoniolsteixeira/ExercicioTopicos/blob/main/exerc_cio_de_desenvolvimento_de_c_digo_python_com_a_ajuda_do_chat_gpt.ipynb\" target=\"_parent\"><img src=\"https://colab.research.google.com/assets/colab-badge.svg\" alt=\"Open In Colab\"/></a>"
      ]
    },
    {
      "cell_type": "code",
      "execution_count": null,
      "metadata": {
        "id": "ykWAULAf3JKt"
      },
      "outputs": [],
      "source": [
        "#Crie uma função em python que seja capaz de utilizar a API do Yahoo finance \n",
        "#para baixar os dados históricos diários das ações da Petrobras (código PETR4) e salvar esses dados como um arquivo .csv\n",
        "import yfinance as yf\n",
        "import pandas as pd"
      ]
    },
    {
      "cell_type": "code",
      "source": [
        "def download_dados_petrobras():\n",
        "    # Define o ticker para PETR4\n",
        "    ticker = \"PETR4.SA\"\n",
        "    \n",
        "    # Faz o download dos dados históricos\n",
        "    data = yf.download(ticker, start=\"2023-01-01\", end=\"2023-06-06\")\n",
        "    \n",
        "    # Salva os dados em um arquivo CSV\n",
        "    data.to_csv(\"dados_petrobras.csv\")\n",
        "\n",
        "# Chama a função para baixar os dados\n",
        "download_dados_petrobras()"
      ],
      "metadata": {
        "colab": {
          "base_uri": "https://localhost:8080/"
        },
        "id": "BU7WAA92396Z",
        "outputId": "428df197-e368-4bc2-c3ee-90497b3f38e9"
      },
      "execution_count": null,
      "outputs": [
        {
          "output_type": "stream",
          "name": "stdout",
          "text": [
            "\r[*********************100%***********************]  1 of 1 completed\n"
          ]
        }
      ]
    },
    {
      "cell_type": "code",
      "source": [
        "#Crie uma função em python que receba um nome de arquivo .csv, carregue o conteúdo do arquivo e retorne um dataframe contendo o valor do arquivo. \n",
        "#A partir dessa função, carregue o conteúdo do arquivo .csv da questão 1 (acima) e imprima o conteúdo das últimas 10 linhas.\n",
        "#\n",
        "import pandas as pd\n",
        "\n",
        "def carregar_arquivo_csv(nome_arquivo):\n",
        "    # Carrega o arquivo CSV em um DataFrame\n",
        "    dataframe = pd.read_csv(nome_arquivo)\n",
        "    \n",
        "    return dataframe\n"
      ],
      "metadata": {
        "id": "2b1Lwzc14uCU"
      },
      "execution_count": null,
      "outputs": []
    },
    {
      "cell_type": "code",
      "source": [
        "\n",
        "# Chama a função para carregar o arquivo CSV\n",
        "dataframe_petrobras = carregar_arquivo_csv(\"dados_petrobras.csv\")\n",
        "\n",
        "# Imprime as últimas 10 linhas do DataFrame\n",
        "print(dataframe_petrobras.tail(10))\n"
      ],
      "metadata": {
        "colab": {
          "base_uri": "https://localhost:8080/"
        },
        "id": "HLRvJ8QY48cx",
        "outputId": "03027ea9-ac6d-485c-a69f-ea1da2fd0363"
      },
      "execution_count": null,
      "outputs": [
        {
          "output_type": "stream",
          "name": "stdout",
          "text": [
            "           Date       Open       High        Low      Close  Adj Close  \\\n",
            "96   2023-05-23  25.650000  26.430000  25.520000  26.250000  26.250000   \n",
            "97   2023-05-24  26.250000  26.900000  26.049999  26.650000  26.650000   \n",
            "98   2023-05-25  26.799999  26.840000  26.190001  26.450001  26.450001   \n",
            "99   2023-05-26  26.809999  26.910000  26.530001  26.799999  26.799999   \n",
            "100  2023-05-29  26.750000  26.820000  26.559999  26.690001  26.690001   \n",
            "101  2023-05-30  26.719999  26.799999  26.260000  26.389999  26.389999   \n",
            "102  2023-05-31  26.270000  26.360001  25.870001  26.120001  26.120001   \n",
            "103  2023-06-01  26.299999  27.000000  26.160000  26.959999  26.959999   \n",
            "104  2023-06-02  27.430000  27.600000  27.110001  27.180000  27.180000   \n",
            "105  2023-06-05  27.540001  27.559999  27.230000  27.469999  27.469999   \n",
            "\n",
            "       Volume  \n",
            "96   58285300  \n",
            "97   54796400  \n",
            "98   49182700  \n",
            "99   39866600  \n",
            "100  17977100  \n",
            "101  45736700  \n",
            "102  49207600  \n",
            "103  63148200  \n",
            "104  39919300  \n",
            "105  39321700  \n"
          ]
        }
      ]
    },
    {
      "cell_type": "code",
      "source": [
        "#Crie uma função que receba como entrada (parâmetros) um dataframe e o nome de uma de suas colunas e retorne a média e o desvio padrão dos valores contidos \n",
        "#na coluna cujo nome foi recebido como parâmetro.\n",
        "#\n",
        "import numpy as np\n",
        "\n",
        "def calcular_media_desvio_padrao(dataframe, nome_coluna):\n",
        "    # Obtém a coluna do DataFrame com base no nome fornecido\n",
        "    coluna = dataframe[nome_coluna]\n",
        "    \n",
        "    # Calcula a média e o desvio padrão dos valores na coluna\n",
        "    media = np.mean(coluna)\n",
        "    desvio_padrao = np.std(coluna)\n",
        "    \n",
        "    return media, desvio_padrao\n"
      ],
      "metadata": {
        "id": "QRbrt-tn5YFo"
      },
      "execution_count": null,
      "outputs": []
    },
    {
      "cell_type": "code",
      "source": [
        "#Crie uma função que receba como entrada (parâmetros) um dataframe onde cada coluna possui uma série de números. A função deve receber também o nome de uma das colunas. \n",
        "#A função deve retornar um dataframe resultante, #a partir do dataframe de entrada, onde as linhas foram ordenadas em ordem crescente pelos números da coluna cujo nome foi recebido como parâmetro.\n",
        "def ordenar_dataframe(dataframe, nome_coluna):\n",
        "    # Ordena o DataFrame com base na coluna especificada\n",
        "    dataframe_ordenado = dataframe.sort_values(by=nome_coluna, ascending=True)\n",
        "    \n",
        "    return dataframe_ordenado\n"
      ],
      "metadata": {
        "id": "uqfkcoUu6HV1"
      },
      "execution_count": null,
      "outputs": []
    },
    {
      "cell_type": "code",
      "source": [
        "# Chama a função para ordenar o DataFrame pela coluna \"Valor\"\n",
        "dataframe_ordenado = ordenar_dataframe(dataframe_petrobras, \"Date\")\n",
        "\n",
        "# Imprime o DataFrame ordenado\n",
        "print(dataframe_ordenado)\n"
      ],
      "metadata": {
        "colab": {
          "base_uri": "https://localhost:8080/"
        },
        "id": "2ImlwDDj6gE4",
        "outputId": "8af3264f-3f63-4b82-b723-df47950adb8d"
      },
      "execution_count": null,
      "outputs": [
        {
          "output_type": "stream",
          "name": "stdout",
          "text": [
            "           Date       Open       High        Low      Close  Adj Close  \\\n",
            "0    2023-01-02  23.540001  23.809999  22.799999  22.920000  20.399244   \n",
            "1    2023-01-03  22.940001  23.100000  22.129999  22.340000  19.883034   \n",
            "2    2023-01-04  21.959999  23.590000  21.830000  23.049999  20.514946   \n",
            "3    2023-01-05  23.340000  24.040001  23.150000  23.879999  21.253662   \n",
            "4    2023-01-06  23.940001  24.320000  23.549999  23.740000  21.129061   \n",
            "..          ...        ...        ...        ...        ...        ...   \n",
            "101  2023-05-30  26.719999  26.799999  26.260000  26.389999  26.389999   \n",
            "102  2023-05-31  26.270000  26.360001  25.870001  26.120001  26.120001   \n",
            "103  2023-06-01  26.299999  27.000000  26.160000  26.959999  26.959999   \n",
            "104  2023-06-02  27.430000  27.600000  27.110001  27.180000  27.180000   \n",
            "105  2023-06-05  27.540001  27.559999  27.230000  27.469999  27.469999   \n",
            "\n",
            "        Volume  \n",
            "0     78424700  \n",
            "1     96750300  \n",
            "2    129504000  \n",
            "3     73886000  \n",
            "4     51851500  \n",
            "..         ...  \n",
            "101   45736700  \n",
            "102   49207600  \n",
            "103   63148200  \n",
            "104   39919300  \n",
            "105   39321700  \n",
            "\n",
            "[106 rows x 7 columns]\n"
          ]
        }
      ]
    },
    {
      "cell_type": "code",
      "source": [
        "#Um professor do UniFOA gostaria de fazer um exercício de programação com seus alunos que consistia em fazer uma série de consultas a um banco de dados de exemplo.\n",
        "# Apesar de ser muito bom em programação python, o professor não tinha um banco de dados de exemplo, nem possuía um conjunto de dados real que pudesse cadastrar em \n",
        "#um banco de dados para disponibilizar o banco aos alunos. A partir disso, escreva uma função em python que receba um arquivo .csv, crie um banco de dados de nome \n",
        "#padrão com ajuda do sqlite, crie uma tabela contendo os dados do dataframe mantendo os nomes das colunas, e salve o banco de dados num arquivo de saída.\n",
        "\n",
        "import sqlite3\n",
        "import pandas as pd\n",
        "\n",
        "def criar_banco_dados_csv(arquivo_csv, arquivo_saida):\n",
        "    # Ler o arquivo CSV como um DataFrame\n",
        "    df = pd.read_csv(arquivo_csv)\n",
        "    \n",
        "    # Extrair o nome das colunas do DataFrame\n",
        "    colunas = df.columns.tolist()\n",
        "    \n",
        "    # Conectar ao banco de dados SQLite\n",
        "    conn = sqlite3.connect(arquivo_saida)\n",
        "    c = conn.cursor()\n",
        "    \n",
        "    # Criar a tabela no banco de dados\n",
        "    c.execute(\"CREATE TABLE IF NOT EXISTS dados ({})\".format(\", \".join(colunas)))\n",
        "    \n",
        "    # Inserir os dados do DataFrame na tabela\n",
        "    valores = df.values.tolist()\n",
        "    c.executemany(\"INSERT INTO dados ({}) VALUES ({})\".format(\", \".join(colunas), \", \".join([\"?\"] * len(colunas))), valores)\n",
        "    \n",
        "    # Salvar as alterações e fechar a conexão com o banco de dados\n",
        "    conn.commit()\n",
        "    conn.close()\n",
        "    \n",
        "    print(\"Banco de dados criado com sucesso: {}\".format(arquivo_saida))\n"
      ],
      "metadata": {
        "id": "m9DrBXny8Nmc"
      },
      "execution_count": null,
      "outputs": []
    }
  ]
}